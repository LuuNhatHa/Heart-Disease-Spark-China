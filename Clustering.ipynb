{
 "cells": [
  {
   "metadata": {
    "ExecuteTime": {
     "end_time": "2025-05-31T14:25:43.580971Z",
     "start_time": "2025-05-31T14:25:25.326821Z"
    }
   },
   "cell_type": "code",
   "source": [
    "from pyspark.sql import SparkSession\n",
    "import os\n",
    "\n",
    "# Tạo thư mục tạm nếu chưa có\n",
    "temp_dir = \"D:/spark_temp\"\n",
    "os.makedirs(temp_dir, exist_ok=True)\n",
    "\n",
    "# Khởi tạo SparkSession\n",
    "spark = SparkSession.builder \\\n",
    "    .appName(\"Heart Attack KMeans Clustering\") \\\n",
    "    .config(\"spark.local.dir\", temp_dir) \\\n",
    "    .getOrCreate()\n"
   ],
   "id": "2767f02077da5f77",
   "outputs": [],
   "execution_count": 1
  },
  {
   "metadata": {
    "ExecuteTime": {
     "end_time": "2025-05-31T14:25:56.137457Z",
     "start_time": "2025-05-31T14:25:45.767038Z"
    }
   },
   "cell_type": "code",
   "source": [
    "df = spark.read.csv(\"D:/data/heart_attack_china.csv\", header=True, inferSchema=True)\n",
    "df.printSchema()\n",
    "df.show(5)\n",
    "\n",
    "# Loại bỏ cột không cần thiết\n",
    "target_col = \"Heart_Attack\"\n",
    "drop_cols = [\"Patient_ID\", target_col]\n",
    "feature_cols = [c for c in df.columns if c not in drop_cols]\n",
    "\n",
    "# Phân loại cột\n",
    "categorical_cols = [c for c, t in df.dtypes if t == 'string' and c in feature_cols]\n",
    "numeric_cols = [c for c in feature_cols if c not in categorical_cols]\n",
    "\n",
    "print(f\"Categorical columns: {categorical_cols}\")\n",
    "print(f\"Numeric columns: {numeric_cols}\")\n"
   ],
   "id": "e8eb58a927ea75ea",
   "outputs": [
    {
     "name": "stdout",
     "output_type": "stream",
     "text": [
      "root\n",
      " |-- Patient_ID: integer (nullable = true)\n",
      " |-- Age: integer (nullable = true)\n",
      " |-- Gender: string (nullable = true)\n",
      " |-- Smoking_Status: string (nullable = true)\n",
      " |-- Hypertension: string (nullable = true)\n",
      " |-- Diabetes: string (nullable = true)\n",
      " |-- Obesity: string (nullable = true)\n",
      " |-- Cholesterol_Level: string (nullable = true)\n",
      " |-- Air_Pollution_Exposure: string (nullable = true)\n",
      " |-- Physical_Activity: string (nullable = true)\n",
      " |-- Diet_Score: string (nullable = true)\n",
      " |-- Stress_Level: string (nullable = true)\n",
      " |-- Alcohol_Consumption: string (nullable = true)\n",
      " |-- Family_History_CVD: string (nullable = true)\n",
      " |-- Healthcare_Access: string (nullable = true)\n",
      " |-- Rural_or_Urban: string (nullable = true)\n",
      " |-- Region: string (nullable = true)\n",
      " |-- Province: string (nullable = true)\n",
      " |-- Hospital_Availability: string (nullable = true)\n",
      " |-- TCM_Use: string (nullable = true)\n",
      " |-- Employment_Status: string (nullable = true)\n",
      " |-- Education_Level: string (nullable = true)\n",
      " |-- Income_Level: string (nullable = true)\n",
      " |-- Blood_Pressure: integer (nullable = true)\n",
      " |-- Chronic_Kidney_Disease: string (nullable = true)\n",
      " |-- Previous_Heart_Attack: string (nullable = true)\n",
      " |-- CVD_Risk_Score: integer (nullable = true)\n",
      " |-- Heart_Attack: string (nullable = true)\n",
      "\n",
      "+----------+---+------+--------------+------------+--------+-------+-----------------+----------------------+-----------------+----------+------------+-------------------+------------------+-----------------+--------------+-------+---------+---------------------+-------+-----------------+---------------+------------+--------------+----------------------+---------------------+--------------+------------+\n",
      "|Patient_ID|Age|Gender|Smoking_Status|Hypertension|Diabetes|Obesity|Cholesterol_Level|Air_Pollution_Exposure|Physical_Activity|Diet_Score|Stress_Level|Alcohol_Consumption|Family_History_CVD|Healthcare_Access|Rural_or_Urban| Region| Province|Hospital_Availability|TCM_Use|Employment_Status|Education_Level|Income_Level|Blood_Pressure|Chronic_Kidney_Disease|Previous_Heart_Attack|CVD_Risk_Score|Heart_Attack|\n",
      "+----------+---+------+--------------+------------+--------+-------+-----------------+----------------------+-----------------+----------+------------+-------------------+------------------+-----------------+--------------+-------+---------+---------------------+-------+-----------------+---------------+------------+--------------+----------------------+---------------------+--------------+------------+\n",
      "|         1| 55|  Male|    Non-Smoker|         Yes|     Yes|     No|           Normal|                   Low|             High|  Moderate|        High|                Yes|                No|             Good|         Rural|Eastern|  Beijing|                  Low|    Yes|       Unemployed|        Primary|         Low|           137|                    No|                   No|            78|         Yes|\n",
      "|         2| 66|Female|        Smoker|          No|     Yes|    Yes|              Low|                  High|             High|   Healthy|      Medium|                Yes|               Yes|             Poor|         Urban|Eastern|  Qinghai|                 High|     No|       Unemployed|      Secondary|      Middle|           142|                   Yes|                   No|            49|         Yes|\n",
      "|         3| 69|Female|        Smoker|         Yes|     Yes|    Yes|              Low|                  High|             High|  Moderate|        High|                Yes|                No|             Poor|         Rural|Eastern|    Henan|                  Low|     No|       Unemployed|        Primary|        High|           176|                   Yes|                   No|            31|         Yes|\n",
      "|         4| 45|Female|        Smoker|         Yes|      No|    Yes|           Normal|                  High|              Low|   Healthy|      Medium|                Yes|                No|             Poor|         Rural|Central|  Qinghai|               Medium|    Yes|         Employed|        Primary|         Low|           178|                   Yes|                  Yes|            23|         Yes|\n",
      "|         5| 39|Female|        Smoker|         Yes|     Yes|    Yes|           Normal|                  High|           Medium|   Healthy|        High|                Yes|                No|         Moderate|         Urban|Western|Guangdong|                  Low|     No|          Retired|         Higher|      Middle|           146|                    No|                   No|            79|         Yes|\n",
      "+----------+---+------+--------------+------------+--------+-------+-----------------+----------------------+-----------------+----------+------------+-------------------+------------------+-----------------+--------------+-------+---------+---------------------+-------+-----------------+---------------+------------+--------------+----------------------+---------------------+--------------+------------+\n",
      "only showing top 5 rows\n",
      "\n",
      "Categorical columns: ['Gender', 'Smoking_Status', 'Hypertension', 'Diabetes', 'Obesity', 'Cholesterol_Level', 'Air_Pollution_Exposure', 'Physical_Activity', 'Diet_Score', 'Stress_Level', 'Alcohol_Consumption', 'Family_History_CVD', 'Healthcare_Access', 'Rural_or_Urban', 'Region', 'Province', 'Hospital_Availability', 'TCM_Use', 'Employment_Status', 'Education_Level', 'Income_Level', 'Chronic_Kidney_Disease', 'Previous_Heart_Attack']\n",
      "Numeric columns: ['Age', 'Blood_Pressure', 'CVD_Risk_Score']\n"
     ]
    }
   ],
   "execution_count": 2
  },
  {
   "metadata": {
    "ExecuteTime": {
     "end_time": "2025-05-31T14:37:07.334803Z",
     "start_time": "2025-05-31T14:36:39.123461Z"
    }
   },
   "cell_type": "code",
   "source": [
    "from pyspark.ml.feature import StringIndexer, OneHotEncoder, VectorAssembler, VectorIndexer\n",
    "from pyspark.ml import Pipeline\n",
    "\n",
    "# Index & OneHotEncoder cho cột phân loại\n",
    "indexers = [StringIndexer(inputCol=c, outputCol=c+\"_idx\", handleInvalid=\"skip\") for c in categorical_cols]\n",
    "encoders = [OneHotEncoder(inputCols=[c+\"_idx\" for c in categorical_cols],\n",
    "                          outputCols=[c+\"_vec\" for c in categorical_cols])]\n",
    "\n",
    "# Assemble toàn bộ features\n",
    "assembler_inputs = [c + \"_vec\" for c in categorical_cols] + numeric_cols\n",
    "assembler = VectorAssembler(inputCols=assembler_inputs, outputCol=\"features\")\n",
    "\n",
    "# Index cho vector đặc trưng\n",
    "featureIndexer = VectorIndexer(inputCol=\"features\", outputCol=\"indexedFeatures\", maxCategories=4)\n",
    "\n",
    "# Pipeline xử lý đặc trưng\n",
    "stages = indexers + encoders + [assembler, featureIndexer]\n",
    "pipeline = Pipeline(stages=stages)\n",
    "\n",
    "# Biến đổi dữ liệu\n",
    "pipeline_model = pipeline.fit(df)\n",
    "data = pipeline_model.transform(df).select(\"indexedFeatures\")"
   ],
   "id": "832f82517cb847a7",
   "outputs": [],
   "execution_count": 5
  },
  {
   "metadata": {
    "ExecuteTime": {
     "end_time": "2025-05-31T14:51:21.901329Z",
     "start_time": "2025-05-31T14:51:21.796483Z"
    }
   },
   "cell_type": "code",
   "source": [
    "from pyspark.ml.evaluation import ClusteringEvaluator\n",
    "from pyspark.ml.clustering import KMeans\n",
    "import numpy as np\n",
    "import matplotlib.pyplot as plt\n",
    "from matplotlib.ticker import MaxNLocator\n",
    "\n",
    "def find_optimal_k(data, feature_col=\"indexedFeatures\", k_min=2, k_max=10, runs=3):\n",
    "    sil_scores = []\n",
    "    k_values = list(range(k_min, k_max + 1))\n",
    "    evaluator = ClusteringEvaluator(featuresCol=feature_col, metricName=\"silhouette\", distanceMeasure=\"squaredEuclidean\")\n",
    "\n",
    "    for k in k_values:\n",
    "        run_scores = []\n",
    "        for _ in range(runs):\n",
    "            kmeans = KMeans(featuresCol=feature_col, k=k, seed=np.random.randint(10000))\n",
    "            model = kmeans.fit(data)\n",
    "            preds = model.transform(data)\n",
    "            score = evaluator.evaluate(preds)\n",
    "            run_scores.append(score)\n",
    "        sil_scores.append(np.mean(run_scores))\n",
    "\n",
    "    # Vẽ biểu đồ Silhouette\n",
    "    plt.figure(figsize=(8, 6))\n",
    "    plt.plot(k_values, sil_scores, marker='o', color='red')\n",
    "    plt.xlabel(\"Số cụm\")\n",
    "    plt.ylabel(\"Chỉ số Silhouette\")\n",
    "    plt.title(\"Chỉ số Silhouette theo số cụm\")\n",
    "    plt.gca().xaxis.set_major_locator(MaxNLocator(integer=True))\n",
    "    plt.show()\n",
    "\n",
    "    best_k = k_values[np.argmax(sil_scores)]\n",
    "    print(f\"Số cụm tốt nhất: {best_k} theo Chỉ số Silhouette: {max(sil_scores):.4f}\")\n",
    "    return best_k\n"
   ],
   "id": "41325bd7aa524e74",
   "outputs": [],
   "execution_count": 12
  },
  {
   "metadata": {
    "ExecuteTime": {
     "end_time": "2025-05-31T15:06:39.842551Z",
     "start_time": "2025-05-31T14:51:40.264961Z"
    }
   },
   "cell_type": "code",
   "source": [
    "\n",
    "best_k = find_optimal_k(data, k_min=2, k_max=10, runs=3)\n",
    "from pyspark.sql.functions import avg, count\n",
    "# Huấn luyện mô hình với số cụm tốt nhất\n",
    "kmeans = KMeans(featuresCol=\"indexedFeatures\", k=best_k, seed=42)\n",
    "model = kmeans.fit(data)\n",
    "\n",
    "# Gán cụm vào dữ liệu đầy đủ\n",
    "full_data = pipeline_model.transform(df)\n",
    "predictions = model.transform(full_data)\n",
    "\n",
    "# Phân tích cụm theo CVD_Risk_Score và Blood_Pressure\n",
    "analyzed = predictions.select(\"prediction\", \"CVD_Risk_Score\", \"Blood_Pressure\")\n",
    "cluster_summary = analyzed.groupBy(\"prediction\") \\\n",
    "    .agg(\n",
    "        avg(\"CVD_Risk_Score\").alias(\"Avg_CVD_Risk_Score\"),\n",
    "        avg(\"Blood_Pressure\").alias(\"Avg_Blood_Pressure\"),\n",
    "        count(\"*\").alias(\"Num_Records\")\n",
    "    ) \\\n",
    "    .orderBy(\"prediction\")\n",
    "\n",
    "# Hiển thị kết quả\n",
    "cluster_summary.show(truncate=False)\n"
   ],
   "id": "97a20820962ea7c7",
   "outputs": [
    {
     "data": {
      "text/plain": [
       "<Figure size 800x600 with 1 Axes>"
      ],
      "image/png": "[encoded data removed]"
     },
     "metadata": {},
     "output_type": "display_data"
    },
    {
     "name": "stdout",
     "output_type": "stream",
     "text": [
      "Số cụm tốt nhất: 2 theo Chỉ số Silhouette: 0.4929\n",
      "+----------+------------------+------------------+-----------+\n",
      "|prediction|Avg_CVD_Risk_Score|Avg_Blood_Pressure|Num_Records|\n",
      "+----------+------------------+------------------+-----------+\n",
      "|0         |77.0130107014065  |141.28702192993467|119517     |\n",
      "|1         |32.001795422091206|141.1789743546919 |119749     |\n",
      "+----------+------------------+------------------+-----------+\n",
      "\n"
     ]
    }
   ],
   "execution_count": 13
  },
  {
   "metadata": {
    "ExecuteTime": {
     "end_time": "2025-05-31T15:17:51.525085Z",
     "start_time": "2025-05-31T15:17:28.312321Z"
    }
   },
   "cell_type": "code",
   "source": [
    "from pyspark.ml.clustering import KMeans\n",
    "\n",
    "kmeans = KMeans(featuresCol=\"indexedFeatures\", k=best_k, seed=42)\n",
    "model = kmeans.fit(data)\n"
   ],
   "id": "671641c8b7e14e1d",
   "outputs": [],
   "execution_count": 14
  },
  {
   "metadata": {
    "ExecuteTime": {
     "end_time": "2025-05-31T15:18:17.788702Z",
     "start_time": "2025-05-31T15:18:16.737185Z"
    }
   },
   "cell_type": "code",
   "source": [
    "result = model.transform(data)\n",
    "result.select(\"indexedFeatures\", \"prediction\").show(10, truncate=False)\n",
    "\n",
    "# Hiển thị tâm cụm\n",
    "print(\"Cluster centers:\")\n",
    "for center in model.clusterCenters():\n",
    "    print(center)\n"
   ],
   "id": "deb808fdcde6a367",
   "outputs": [
    {
     "name": "stdout",
     "output_type": "stream",
     "text": [
      "+-----------------------------------------------------------------------------------------------------------------------------------------------------------------+----------+\n",
      "|indexedFeatures                                                                                                                                                  |prediction|\n",
      "+-----------------------------------------------------------------------------------------------------------------------------------------------------------------+----------+\n",
      "|(46,[1,2,3,5,11,13,15,16,19,21,25,35,37,40,42,43,44,45],[1.0,1.0,1.0,1.0,1.0,1.0,1.0,1.0,1.0,1.0,1.0,1.0,1.0,1.0,1.0,55.0,137.0,78.0])                           |0         |\n",
      "|(46,[0,3,4,7,12,15,17,21,28,31,33,35,38,41,42,43,44,45],[1.0,1.0,1.0,1.0,1.0,1.0,1.0,1.0,1.0,1.0,1.0,1.0,1.0,1.0,1.0,66.0,142.0,49.0])                           |1         |\n",
      "|(46,[0,2,3,4,7,11,13,15,16,17,19,21,30,33,35,37,39,41,42,43,44,45],[1.0,1.0,1.0,1.0,1.0,1.0,1.0,1.0,1.0,1.0,1.0,1.0,1.0,1.0,1.0,1.0,1.0,1.0,1.0,69.0,176.0,31.0])|1         |\n",
      "|(46,[0,2,4,5,7,9,12,15,16,17,19,23,28,32,37,40,41,43,44,45],[1.0,1.0,1.0,1.0,1.0,1.0,1.0,1.0,1.0,1.0,1.0,1.0,1.0,1.0,1.0,1.0,1.0,45.0,178.0,23.0])               |1         |\n",
      "|(46,[0,2,3,4,5,7,10,12,13,15,16,18,20,24,33,34,36,42,43,44,45],[1.0,1.0,1.0,1.0,1.0,1.0,1.0,1.0,1.0,1.0,1.0,1.0,1.0,1.0,1.0,1.0,1.0,1.0,39.0,146.0,79.0])        |0         |\n",
      "|(46,[2,3,4,8,9,15,18,21,29,36,41,42,43,44,45],[1.0,1.0,1.0,1.0,1.0,1.0,1.0,1.0,1.0,1.0,1.0,1.0,76.0,137.0,49.0])                                                 |1         |\n",
      "|(46,[2,3,4,5,7,9,15,17,21,27,36,39,42,43,44,45],[1.0,1.0,1.0,1.0,1.0,1.0,1.0,1.0,1.0,1.0,1.0,1.0,1.0,37.0,144.0,81.0])                                           |0         |\n",
      "|(46,[1,3,9,11,14,15,16,18,19,20,26,31,33,34,40,41,42,43,44,45],[1.0,1.0,1.0,1.0,1.0,1.0,1.0,1.0,1.0,1.0,1.0,1.0,1.0,1.0,1.0,1.0,1.0,88.0,162.0,27.0])            |1         |\n",
      "|(46,[0,2,3,5,7,10,15,16,17,32,35,38,40,41,42,43,44,45],[1.0,1.0,1.0,1.0,1.0,1.0,1.0,1.0,1.0,1.0,1.0,1.0,1.0,1.0,1.0,54.0,134.0,62.0])                            |0         |\n",
      "|(46,[0,2,3,9,11,15,18,19,21,25,33,39,41,42,43,44,45],[1.0,1.0,1.0,1.0,1.0,1.0,1.0,1.0,1.0,1.0,1.0,1.0,1.0,1.0,47.0,125.0,67.0])                                  |0         |\n",
      "+-----------------------------------------------------------------------------------------------------------------------------------------------------------------+----------+\n",
      "only showing top 10 rows\n",
      "\n",
      "Cluster centers:\n",
      "[4.99987449e-01 5.01426575e-01 7.28942326e-01 8.89262615e-01\n",
      " 6.99482082e-01 3.34805927e-01 3.31802170e-01 4.99175849e-01\n",
      " 3.00459349e-01 3.34312274e-01 3.33994327e-01 3.35617527e-01\n",
      " 3.31718500e-01 3.34964900e-01 3.33509041e-01 7.86482258e-01\n",
      " 7.50989399e-01 3.34772459e-01 3.32337659e-01 5.99236929e-01\n",
      " 1.99862781e-01 2.00682748e-01 2.00716216e-01 1.99553202e-01\n",
      " 1.25362919e-01 1.26149418e-01 1.25488424e-01 1.25697600e-01\n",
      " 1.24718659e-01 1.25982078e-01 1.23622581e-01 3.33877189e-01\n",
      " 3.33015387e-01 6.02458228e-01 3.34262072e-01 3.33960859e-01\n",
      " 2.52307203e-01 2.48776325e-01 2.50416259e-01 3.33642913e-01\n",
      " 3.34061263e-01 8.50448053e-01 9.00809090e-01 5.94190115e+01\n",
      " 1.41287022e+02 7.70130107e+01]\n",
      "[5.02643028e-01 4.99110640e-01 7.30160586e-01 8.89460455e-01\n",
      " 7.00807522e-01 3.34666678e-01 3.33731388e-01 5.00488522e-01\n",
      " 2.98491010e-01 3.35117621e-01 3.34132227e-01 3.32712591e-01\n",
      " 3.34115525e-01 3.34750186e-01 3.34006965e-01 7.86336420e-01\n",
      " 7.51438425e-01 3.33205288e-01 3.33956860e-01 6.00322341e-01\n",
      " 2.02197931e-01 2.00202089e-01 1.99058030e-01 1.99116485e-01\n",
      " 1.26756800e-01 1.25153446e-01 1.25487478e-01 1.24502084e-01\n",
      " 1.25353865e-01 1.23533391e-01 1.25195200e-01 3.33564372e-01\n",
      " 3.34265839e-01 6.00798337e-01 3.33380655e-01 3.32712591e-01\n",
      " 2.48745292e-01 2.51926947e-01 2.49496864e-01 3.36311785e-01\n",
      " 3.32954764e-01 8.51397506e-01 8.98913561e-01 5.95134657e+01\n",
      " 1.41178974e+02 3.20017954e+01]\n"
     ]
    }
   ],
   "execution_count": 15
  },
  {
   "metadata": {},
   "cell_type": "code",
   "outputs": [],
   "execution_count": null,
   "source": "spark.stop()\n",
   "id": "a3b9907491f959a6"
  }
 ],
 "metadata": {
  "kernelspec": {
   "display_name": "Python 3",
   "language": "python",
   "name": "python3"
  },
  "language_info": {
   "codemirror_mode": {
    "name": "ipython",
    "version": 2
   },
   "file_extension": ".py",
   "mimetype": "text/x-python",
   "name": "python",
   "nbconvert_exporter": "python",
   "pygments_lexer": "ipython2",
   "version": "2.7.6"
  }
 },
 "nbformat": 4,
 "nbformat_minor": 5
}
