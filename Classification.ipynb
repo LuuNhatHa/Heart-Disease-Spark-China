{
 "cells": [
  {
   "metadata": {},
   "cell_type": "code",
   "outputs": [],
   "execution_count": null,
   "source": "#LOGISTIC REGRESSION",
   "id": "12d2b4b1b80221f4"
  },
  {
   "metadata": {
    "ExecuteTime": {
     "end_time": "2025-05-29T16:36:59.112505Z",
     "start_time": "2025-05-29T16:36:58.927976Z"
    }
   },
   "cell_type": "code",
   "source": [
    "from pyspark.sql import SparkSession\n",
    "from pyspark.sql.functions import when, col\n",
    "from pyspark.ml.feature import StringIndexer, VectorAssembler\n",
    "from pyspark.ml import Pipeline\n",
    "from pyspark.ml.classification import LogisticRegression\n",
    "from pyspark.ml.evaluation import BinaryClassificationEvaluator\n",
    "from pyspark.sql.types import IntegerType\n"
   ],
   "id": "7f3573f92cd2e5e4",
   "outputs": [],
   "execution_count": 1
  },
  {
   "cell_type": "code",
   "id": "initial_id",
   "metadata": {
    "collapsed": true,
    "ExecuteTime": {
     "end_time": "2025-05-29T16:37:11.137174Z",
     "start_time": "2025-05-29T16:36:59.735390Z"
    }
   },
   "source": [
    "from pyspark.sql import SparkSession\n",
    "from pyspark.sql.functions import when, col\n",
    "\n",
    "# 1. Tạo SparkSession, dùng thư mục tạm đã tạo ở D:/spark_temp\n",
    "spark = SparkSession.builder \\\n",
    "    .appName(\"HeartAttackPrediction\") \\\n",
    "    .config(\"spark.local.dir\", \"D:/spark_temp\") \\\n",
    "    .getOrCreate()\n",
    "\n",
    "# 2. Đọc dữ liệu\n",
    "data_path = 'D:\\\\data\\\\heart_attack_china.csv'\n",
    "df = spark.read \\\n",
    "    .option(\"header\", \"True\") \\\n",
    "    .option(\"inferSchema\", \"True\") \\\n",
    "    .option(\"sep\", \",\") \\\n",
    "    .csv(data_path)\n",
    "\n",
    "print(\"There are\", df.count(), \"rows and\", len(df.columns), \"columns in the data.\")\n",
    "\n",
    "# 3. Chuyển cột label Heart_Attack sang số (0 hoặc 1)\n",
    "df = df.withColumn(\"Heart_Attack\", when(col(\"Heart_Attack\") == \"Yes\", 1).otherwise(0))\n"
   ],
   "outputs": [
    {
     "name": "stdout",
     "output_type": "stream",
     "text": [
      "There are 239266 rows and 28 columns in the data.\n"
     ]
    }
   ],
   "execution_count": 2
  },
  {
   "metadata": {
    "ExecuteTime": {
     "end_time": "2025-05-29T16:37:24.339356Z",
     "start_time": "2025-05-29T16:37:12.990922Z"
    }
   },
   "cell_type": "code",
   "source": [
    "from pyspark.ml.feature import StringIndexer\n",
    "from pyspark.ml.feature import VectorAssembler\n",
    "from pyspark.ml import Pipeline\n",
    "\n",
    "# 3. Danh sách đặc trưng đầu vào (không bao gồm label)\n",
    "indep_features = [\n",
    "    \"Age\", \"Gender\", \"Smoking_Status\", \"Hypertension\", \"Diabetes\", \"Obesity\",\n",
    "    \"Cholesterol_Level\", \"Air_Pollution_Exposure\", \"Physical_Activity\", \"Diet_Score\",\n",
    "    \"Stress_Level\", \"Alcohol_Consumption\", \"Family_History_CVD\", \"Healthcare_Access\",\n",
    "    \"Rural_or_Urban\", \"Region\", \"Province\", \"Hospital_Availability\", \"TCM_Use\",\n",
    "    \"Employment_Status\", \"Education_Level\", \"Income_Level\", \"Blood_Pressure\",\n",
    "    \"Chronic_Kidney_Disease\", \"Previous_Heart_Attack\", \"CVD_Risk_Score\"\n",
    "]\n",
    "\n",
    "# 4. Xác định các cột kiểu chuỗi cần encode\n",
    "categorical_cols = [c for c, t in df.dtypes if t == \"string\" and c in indep_features]\n",
    "\n",
    "# 5. Tạo StringIndexer cho các cột phân loại\n",
    "indexers = [\n",
    "    StringIndexer(inputCol=feature, outputCol=feature + \"_idx\", handleInvalid=\"keep\")\n",
    "    for feature in categorical_cols\n",
    "]\n",
    "\n",
    "# 6. Tạo danh sách cột đầu vào cho VectorAssembler\n",
    "final_features = [\n",
    "    feature + \"_idx\" if feature in categorical_cols else feature\n",
    "    for feature in indep_features\n",
    "]\n",
    "\n",
    "# 7. VectorAssembler kết hợp đặc trưng\n",
    "assembler = VectorAssembler(inputCols=final_features, outputCol=\"features\")\n",
    "\n",
    "# 8. Tạo pipeline\n",
    "pipeline = Pipeline(stages=indexers + [assembler])\n",
    "\n",
    "# 9. Fit & transform pipeline\n",
    "pipeline_model = pipeline.fit(df)\n",
    "df_transformed = pipeline_model.transform(df)\n",
    "\n",
    "# 10. Chọn cột đầu ra\n",
    "df_final = df_transformed.select(\"features\", \"Heart_Attack\")\n",
    "\n",
    "# 11. Chia train/test\n",
    "train_data, test_data = df_final.randomSplit([0.8, 0.2], seed=42)\n",
    "\n",
    "# 12. Xem vài dòng kết quả\n",
    "train_data.show(5)\n"
   ],
   "id": "34af375fa28a3afe",
   "outputs": [
    {
     "name": "stdout",
     "output_type": "stream",
     "text": [
      "+--------------------+------------+\n",
      "|            features|Heart_Attack|\n",
      "+--------------------+------------+\n",
      "|(26,[0,1,2,3,4,5,...|           1|\n",
      "|(26,[0,1,2,3,4,5,...|           1|\n",
      "|(26,[0,1,2,3,4,5,...|           1|\n",
      "|(26,[0,1,2,3,4,5,...|           1|\n",
      "|(26,[0,1,2,3,4,5,...|           1|\n",
      "+--------------------+------------+\n",
      "only showing top 5 rows\n",
      "\n"
     ]
    }
   ],
   "execution_count": 3
  },
  {
   "metadata": {
    "ExecuteTime": {
     "end_time": "2025-05-29T16:37:34.670700Z",
     "start_time": "2025-05-29T16:37:27.964531Z"
    }
   },
   "cell_type": "code",
   "source": [
    "from pyspark.ml.classification import LogisticRegression\n",
    "\n",
    "# Đặt tên biến label\n",
    "target_feature = \"Heart_Attack\"\n",
    "\n",
    "# Khởi tạo mô hình Logistic Regression\n",
    "lr = LogisticRegression(\n",
    "    featuresCol=\"features\",\n",
    "    labelCol=target_feature,\n",
    "    predictionCol=\"prediction\",\n",
    "    rawPredictionCol=\"rawPrediction\",\n",
    "    probabilityCol=\"probability\",\n",
    "    maxIter=10\n",
    ")\n",
    "\n",
    "# Huấn luyện mô hình và dự đoán\n",
    "lr_model = lr.fit(train_data)\n",
    "lr_predictions = lr_model.transform(test_data)\n"
   ],
   "id": "7d0f13083b3e524",
   "outputs": [],
   "execution_count": 4
  },
  {
   "metadata": {
    "ExecuteTime": {
     "end_time": "2025-05-29T16:37:40.501389Z",
     "start_time": "2025-05-29T16:37:36.804453Z"
    }
   },
   "cell_type": "code",
   "source": [
    "from pyspark.ml.evaluation import BinaryClassificationEvaluator\n",
    "\n",
    "evaluator = BinaryClassificationEvaluator(\n",
    "    labelCol=target_feature,\n",
    "    rawPredictionCol=\"rawPrediction\",\n",
    "    metricName=\"areaUnderROC\"\n",
    ")\n",
    "# Evaluate the model\n",
    "evaluator = BinaryClassificationEvaluator(labelCol=target_feature)\n",
    "area_under_curve = evaluator.evaluate(lr_predictions)\n",
    "print(f\"Area under ROC curve: {area_under_curve}\")\n"
   ],
   "id": "39d0205f36460dfd",
   "outputs": [
    {
     "name": "stdout",
     "output_type": "stream",
     "text": [
      "Area under ROC curve: 0.6439146336644058\n"
     ]
    }
   ],
   "execution_count": 5
  },
  {
   "metadata": {
    "ExecuteTime": {
     "end_time": "2025-05-29T16:37:56.059617Z",
     "start_time": "2025-05-29T16:37:50.633764Z"
    }
   },
   "cell_type": "code",
   "source": [
    "from matplotlib import pyplot as plt\n",
    "# Lấy training summary từ mô hình đã huấn luyện\n",
    "trainingSummary = lr_model.summary\n",
    "\n",
    "# Chuyển dữ liệu ROC về pandas để vẽ\n",
    "lrROC = trainingSummary.roc.toPandas()\n",
    "\n",
    "# Vẽ biểu đồ ROC\n",
    "plt.figure(figsize=(8, 6))\n",
    "plt.plot(lrROC['FPR'], lrROC['TPR'], label='ROC Curve', color='red')\n",
    "plt.plot([0, 1], [0, 1], linestyle='--', color='gray', label='Random Guessing')\n",
    "plt.xlabel('False Positive Rate')\n",
    "plt.ylabel('True Positive Rate')\n",
    "plt.title('ROC Curve - Training Set')\n",
    "plt.grid(True)\n",
    "plt.legend()\n",
    "plt.show()\n",
    "\n",
    "# In chỉ số AUC trên tập huấn luyện\n",
    "print('Training set areaUnderROC: {:.4f}'.format(trainingSummary.areaUnderROC))"
   ],
   "id": "b7068a08bd3bfbd4",
   "outputs": [
    {
     "data": {
      "text/plain": [
       "<Figure size 800x600 with 1 Axes>"
      ],
      "image/png": "[encoded data removed]"
     },
     "metadata": {},
     "output_type": "display_data"
    },
    {
     "name": "stdout",
     "output_type": "stream",
     "text": [
      "Training set areaUnderROC: 0.6409\n"
     ]
    }
   ],
   "execution_count": 6
  },
  {
   "metadata": {
    "ExecuteTime": {
     "end_time": "2025-05-29T16:39:29.954773Z",
     "start_time": "2025-05-29T16:39:25.346566Z"
    }
   },
   "cell_type": "code",
   "source": [
    "pr = trainingSummary.pr.toPandas()\n",
    "plt.plot(pr['recall'], pr['precision'], color='red')\n",
    "plt.ylabel('Precision')\n",
    "plt.xlabel('Recall')\n",
    "plt.grid(True)\n",
    "plt.title(\"Precision-Recall Curve\")\n",
    "plt.show()\n"
   ],
   "id": "b9a80eaf2b3a7731",
   "outputs": [
    {
     "data": {
      "text/plain": [
       "<Figure size 640x480 with 1 Axes>"
      ],
      "image/png": "[encoded data removed]"
     },
     "metadata": {},
     "output_type": "display_data"
    }
   ],
   "execution_count": 7
  },
  {
   "metadata": {
    "ExecuteTime": {
     "end_time": "2025-05-29T15:57:43.812335Z",
     "start_time": "2025-05-29T15:57:38.113887Z"
    }
   },
   "cell_type": "code",
   "source": [
    "from pyspark.sql.functions import column as col\n",
    "# Calculate true positives, true negatives, false positives, false negatives\n",
    "tp = lr_predictions.filter((col(target_feature) == 1) & (col('prediction') == 1)).count()\n",
    "tn = lr_predictions.filter((col(target_feature) == 0) & (col('prediction') == 0)).count()\n",
    "fp = lr_predictions.filter((col(target_feature) == 0) & (col('prediction') == 1)).count()\n",
    "fn = lr_predictions.filter((col(target_feature) == 1) & (col('prediction') == 0)).count()\n",
    "# Calculate accuracy\n",
    "accuracy = (tp + tn) / (tp + tn + fp + fn)\n",
    "print(f\"Accuracy: {accuracy}\")\n",
    "# Calculate precision\n",
    "precision = tp / (tp + fp) if (tp + fp) != 0 else 0\n",
    "print(f\"Precision: {precision}\")\n",
    "# Calculate recall\n",
    "recall = tp / (tp + fn) if (tp + fn) != 0 else 0.0\n",
    "print(f\"Recall: {recall}\")\n",
    "# Calculate F1 measure\n",
    "f1_measure = 2 * (precision * recall) / (precision + recall) if (precision + recall) != 0 else 0.0\n",
    "print(f\"F1 measure: {f1_measure}\")"
   ],
   "id": "2f7464532e0533d8",
   "outputs": [
    {
     "name": "stdout",
     "output_type": "stream",
     "text": [
      "Accuracy: 0.6243386243386243\n",
      "Precision: 0.624993385193417\n",
      "Recall: 0.8639722019019751\n",
      "F1 measure: 0.7253047563484508\n"
     ]
    }
   ],
   "execution_count": 10
  },
  {
   "metadata": {
    "ExecuteTime": {
     "end_time": "2025-05-29T16:01:39.402312Z",
     "start_time": "2025-05-29T16:01:35.912313Z"
    }
   },
   "cell_type": "code",
   "source": [
    "import pandas as pd\n",
    "import seaborn as sns\n",
    "import matplotlib.pyplot as plt\n",
    "\n",
    "# Convert kết quả thành pandas DataFrame\n",
    "preds_df = lr_predictions.select(\"prediction\", \"Heart_Attack\").toPandas()\n",
    "\n",
    "# Confusion matrix\n",
    "conf_matrix = pd.crosstab(preds_df[\"Heart_Attack\"], preds_df[\"prediction\"], rownames=[\"Actual\"], colnames=[\"Predicted\"])\n",
    "\n",
    "# Vẽ\n",
    "plt.figure(figsize=(6, 4))\n",
    "sns.heatmap(conf_matrix, annot=True, fmt='d', cmap='Reds')\n",
    "plt.title(\"Confusion Matrix - Logistic Regression\")\n",
    "plt.show()\n"
   ],
   "id": "bc03be63f86200f",
   "outputs": [
    {
     "data": {
      "text/plain": [
       "<Figure size 600x400 with 2 Axes>"
      ],
      "image/png": "[encoded data removed]"
     },
     "metadata": {},
     "output_type": "display_data"
    }
   ],
   "execution_count": 15
  },
  {
   "metadata": {
    "ExecuteTime": {
     "end_time": "2025-05-29T16:03:31.957887Z",
     "start_time": "2025-05-29T16:03:31.797972Z"
    }
   },
   "cell_type": "code",
   "source": [
    "import matplotlib.pyplot as plt\n",
    "\n",
    "# Evaluation metrics\n",
    "metrics = ['Accuracy', 'Precision', 'Recall', 'F1 Score']\n",
    "values = [accuracy, precision, recall, f1_measure]\n",
    "\n",
    "# Dùng tông đỏ cho tất cả cột\n",
    "red_palette = ['#ff9999', '#ff6666', '#ff3333', '#cc0000']  # Từ nhạt đến đậm\n",
    "\n",
    "# Plotting\n",
    "plt.figure(figsize=(8, 5))\n",
    "bars = plt.bar(metrics, values, color=red_palette)\n",
    "plt.ylim(0, 1)\n",
    "plt.title('Model Evaluation Metrics on Test Set', fontsize=14)\n",
    "plt.ylabel('Score', fontsize=12)\n",
    "\n",
    "# Gắn giá trị lên đầu mỗi cột\n",
    "for bar in bars:\n",
    "    yval = bar.get_height()\n",
    "    plt.text(bar.get_x() + bar.get_width()/2.0, yval + 0.02, f'{yval:.2f}',\n",
    "             ha='center', va='bottom', fontsize=10)\n",
    "\n",
    "plt.grid(axis='y', linestyle='--', alpha=0.7)\n",
    "plt.tight_layout()\n",
    "plt.show()\n"
   ],
   "id": "43983c4fa37b11a8",
   "outputs": [
    {
     "data": {
      "text/plain": [
       "<Figure size 800x500 with 1 Axes>"
      ],
      "image/png": "[encoded data removed]"
     },
     "metadata": {},
     "output_type": "display_data"
    }
   ],
   "execution_count": 17
  },
  {
   "metadata": {},
   "cell_type": "code",
   "outputs": [],
   "execution_count": null,
   "source": "#DECISION TREE",
   "id": "9269ca911e9b6ba"
  },
  {
   "metadata": {
    "ExecuteTime": {
     "end_time": "2025-05-31T16:28:44.768539Z",
     "start_time": "2025-05-31T16:28:44.571055Z"
    }
   },
   "cell_type": "code",
   "source": [
    "from pyspark.sql import SparkSession\n",
    "from pyspark.sql.functions import when, col\n",
    "from pyspark.ml.feature import StringIndexer, VectorAssembler\n",
    "from pyspark.ml import Pipeline\n",
    "from pyspark.ml.classification import LogisticRegression\n",
    "from pyspark.ml.evaluation import BinaryClassificationEvaluator\n",
    "from pyspark.sql.types import IntegerType"
   ],
   "id": "9e7f247a71db9832",
   "outputs": [],
   "execution_count": 1
  },
  {
   "metadata": {
    "ExecuteTime": {
     "end_time": "2025-05-31T16:28:56.343233Z",
     "start_time": "2025-05-31T16:28:45.773961Z"
    }
   },
   "cell_type": "code",
   "source": [
    "from pyspark.sql import SparkSession\n",
    "from pyspark.sql.functions import when, col\n",
    "\n",
    "# 1. Tạo SparkSession đã tạo ở D:/spark_temp\n",
    "spark = SparkSession.builder \\\n",
    "    .appName(\"HeartAttackPrediction\") \\\n",
    "    .config(\"spark.local.dir\", \"D:/spark_temp\") \\\n",
    "    .getOrCreate()\n",
    "\n",
    "# 2. Đọc dữ liệu\n",
    "data_path = 'D:\\\\data\\\\heart_attack_china.csv'\n",
    "df = spark.read \\\n",
    "    .option(\"header\", \"True\") \\\n",
    "    .option(\"inferSchema\", \"True\") \\\n",
    "    .option(\"sep\", \",\") \\\n",
    "    .csv(data_path)\n",
    "\n",
    "print(\"There are\", df.count(), \"rows and\", len(df.columns), \"columns in the data.\")\n",
    "\n",
    "# 3. Chuyển cột label Heart_Attack sang số (0 hoặc 1)\n",
    "df = df.withColumn(\"Heart_Attack\", when(col(\"Heart_Attack\") == \"Yes\", 1).otherwise(0))"
   ],
   "id": "f7812b04e375eb63",
   "outputs": [
    {
     "name": "stdout",
     "output_type": "stream",
     "text": [
      "There are 239266 rows and 28 columns in the data.\n"
     ]
    }
   ],
   "execution_count": 2
  },
  {
   "metadata": {
    "ExecuteTime": {
     "end_time": "2025-05-31T16:29:13.286747Z",
     "start_time": "2025-05-31T16:28:58.264956Z"
    }
   },
   "cell_type": "code",
   "source": [
    "from pyspark.ml.feature import StringIndexer\n",
    "from pyspark.ml.feature import VectorAssembler\n",
    "from pyspark.ml import Pipeline\n",
    "\n",
    "# 3. Danh sách đặc trưng đầu vào\n",
    "indep_features = [\n",
    "    \"Age\", \"Gender\", \"Smoking_Status\", \"Hypertension\", \"Diabetes\", \"Obesity\",\n",
    "    \"Cholesterol_Level\", \"Air_Pollution_Exposure\", \"Physical_Activity\", \"Diet_Score\",\n",
    "    \"Stress_Level\", \"Alcohol_Consumption\", \"Family_History_CVD\", \"Healthcare_Access\",\n",
    "    \"Rural_or_Urban\", \"Region\", \"Province\", \"Hospital_Availability\", \"TCM_Use\",\n",
    "    \"Employment_Status\", \"Education_Level\", \"Income_Level\", \"Blood_Pressure\",\n",
    "    \"Chronic_Kidney_Disease\", \"Previous_Heart_Attack\", \"CVD_Risk_Score\"\n",
    "]\n",
    "\n",
    "# 4. Xác định các cột kiểu chuỗi cần encode\n",
    "categorical_cols = [c for c, t in df.dtypes if t == \"string\" and c in indep_features]\n",
    "\n",
    "# 5. Tạo StringIndexer cho các cột phân loại\n",
    "indexers = [\n",
    "    StringIndexer(inputCol=feature, outputCol=feature + \"_idx\", handleInvalid=\"keep\")\n",
    "    for feature in categorical_cols\n",
    "]\n",
    "\n",
    "# 6. Tạo danh sách cột đầu vào cho VectorAssembler\n",
    "final_features = [\n",
    "    feature + \"_idx\" if feature in categorical_cols else feature\n",
    "    for feature in indep_features\n",
    "]\n",
    "\n",
    "# 7. VectorAssembler kết hợp đặc trưng\n",
    "assembler = VectorAssembler(inputCols=final_features, outputCol=\"features\")\n",
    "\n",
    "# 8. Tạo pipeline\n",
    "pipeline = Pipeline(stages=indexers + [assembler])\n",
    "\n",
    "# 9. Fit & transform pipeline\n",
    "pipeline_model = pipeline.fit(df)\n",
    "df_transformed = pipeline_model.transform(df)\n",
    "\n",
    "# 10. Chọn cột đầu ra\n",
    "df_final = df_transformed.select(\"features\", \"Heart_Attack\")\n",
    "\n",
    "# 11. Chia train/test\n",
    "train_data, test_data = df_final.randomSplit([0.8, 0.2], seed=42)\n",
    "\n",
    "# 12. Xem vài dòng kết quả\n",
    "train_data.show(5)"
   ],
   "id": "bea332c73ec64ab1",
   "outputs": [
    {
     "name": "stdout",
     "output_type": "stream",
     "text": [
      "+--------------------+------------+\n",
      "|            features|Heart_Attack|\n",
      "+--------------------+------------+\n",
      "|(26,[0,1,2,3,4,5,...|           1|\n",
      "|(26,[0,1,2,3,4,5,...|           1|\n",
      "|(26,[0,1,2,3,4,5,...|           1|\n",
      "|(26,[0,1,2,3,4,5,...|           1|\n",
      "|(26,[0,1,2,3,4,5,...|           1|\n",
      "+--------------------+------------+\n",
      "only showing top 5 rows\n",
      "\n"
     ]
    }
   ],
   "execution_count": 3
  },
  {
   "metadata": {
    "ExecuteTime": {
     "end_time": "2025-05-31T16:29:39.404082Z",
     "start_time": "2025-05-31T16:29:31.345568Z"
    }
   },
   "cell_type": "code",
   "source": [
    "from pyspark.ml.classification import DecisionTreeClassifier\n",
    "\n",
    "# Khởi tạo mô hình Decision Tree\n",
    "dt = DecisionTreeClassifier(featuresCol=\"features\", labelCol=\"Heart_Attack\", maxDepth=5)\n",
    "\n",
    "# Huấn luyện mô hình trên tập train\n",
    "dt_model = dt.fit(train_data)\n",
    "\n",
    "# Dự đoán trên tập test\n",
    "dt_predictions = dt_model.transform(test_data)"
   ],
   "id": "d994cf2cbd85846b",
   "outputs": [],
   "execution_count": 5
  },
  {
   "metadata": {
    "ExecuteTime": {
     "end_time": "2025-05-31T16:29:42.945557Z",
     "start_time": "2025-05-31T16:29:41.249607Z"
    }
   },
   "cell_type": "code",
   "source": [
    "from pyspark.ml.evaluation import BinaryClassificationEvaluator\n",
    "\n",
    "# Đánh giá mô hình Decision Tree\n",
    "evaluator = BinaryClassificationEvaluator(labelCol=\"Heart_Attack\")\n",
    "area_under_curve = evaluator.evaluate(dt_predictions)\n",
    "print(f\"Area under ROC curve: {area_under_curve}\")"
   ],
   "id": "92a72e7b6a8b96c8",
   "outputs": [
    {
     "name": "stdout",
     "output_type": "stream",
     "text": [
      "Area under ROC curve: 0.5730672256954139\n"
     ]
    }
   ],
   "execution_count": 6
  },
  {
   "metadata": {
    "ExecuteTime": {
     "end_time": "2025-05-31T16:29:49.540935Z",
     "start_time": "2025-05-31T16:29:44.244549Z"
    }
   },
   "cell_type": "code",
   "source": [
    "from pyspark.sql.functions import col\n",
    "\n",
    "tp = dt_predictions.filter((col(\"Heart_Attack\") == 1) & (col('prediction') == 1)).count()\n",
    "tn = dt_predictions.filter((col(\"Heart_Attack\") == 0) & (col('prediction') == 0)).count()\n",
    "fp = dt_predictions.filter((col(\"Heart_Attack\") == 0) & (col('prediction') == 1)).count()\n",
    "fn = dt_predictions.filter((col(\"Heart_Attack\") == 1) & (col('prediction') == 0)).count()\n",
    "\n",
    "accuracy = (tp + tn) / (tp + tn + fp + fn)\n",
    "print(f\"Accuracy: {accuracy}\")\n",
    "\n",
    "precision = tp / (tp + fp) if (tp + fp) != 0 else 0\n",
    "print(f\"Precision: {precision}\")\n",
    "\n",
    "recall = tp / (tp + fn) if (tp + fn) != 0 else 0.0\n",
    "print(f\"Recall: {recall}\")\n",
    "\n",
    "f1_measure = 2 * (precision * recall) / (precision + recall) if (precision + recall) != 0 else 0.0\n",
    "print(f\"F1 measure: {f1_measure}\")"
   ],
   "id": "60724d32d8024b8f",
   "outputs": [
    {
     "name": "stdout",
     "output_type": "stream",
     "text": [
      "Accuracy: 0.6320231796422272\n",
      "Precision: 0.6221072015129647\n",
      "Recall: 0.9144111192392099\n",
      "F1 measure: 0.7404555282409738\n"
     ]
    }
   ],
   "execution_count": 7
  },
  {
   "metadata": {},
   "cell_type": "code",
   "outputs": [],
   "execution_count": null,
   "source": "#SVM",
   "id": "93b5687930708db5"
  },
  {
   "metadata": {
    "ExecuteTime": {
     "end_time": "2025-05-31T16:29:55.579631Z",
     "start_time": "2025-05-31T16:29:54.710801Z"
    }
   },
   "cell_type": "code",
   "source": [
    "from pyspark.sql import SparkSession\n",
    "from pyspark.sql.functions import when, col\n",
    "from pyspark.ml.feature import StringIndexer, VectorAssembler\n",
    "from pyspark.ml import Pipeline\n",
    "from pyspark.ml.classification import LinearSVC\n",
    "from pyspark.ml.evaluation import BinaryClassificationEvaluator\n",
    "\n",
    "# 1. Tạo SparkSession\n",
    "spark = SparkSession.builder \\\n",
    "    .appName(\"HeartAttackPrediction_SVM\") \\\n",
    "    .config(\"spark.local.dir\", \"D:/spark_temp\") \\\n",
    "    .getOrCreate()\n",
    "\n",
    "# 2. Đọc dữ liệu\n",
    "data_path = 'D:\\\\data\\\\heart_attack_china.csv'\n",
    "df = spark.read.option(\"header\", \"True\") \\\n",
    "    .option(\"inferSchema\", \"True\") \\\n",
    "    .option(\"sep\", \",\") \\\n",
    "    .csv(data_path)\n",
    "\n",
    "print(f\"Data rows: {df.count()}, columns: {len(df.columns)}\")"
   ],
   "id": "46ff93cb4572a29c",
   "outputs": [
    {
     "name": "stdout",
     "output_type": "stream",
     "text": [
      "Data rows: 239266, columns: 28\n"
     ]
    }
   ],
   "execution_count": 8
  },
  {
   "metadata": {
    "ExecuteTime": {
     "end_time": "2025-05-31T16:30:05.016538Z",
     "start_time": "2025-05-31T16:29:57.662415Z"
    }
   },
   "cell_type": "code",
   "source": [
    "# 3. Chuyển cột label Heart_Attack sang số (0 hoặc 1)\n",
    "df = df.withColumn(\"Heart_Attack\", when(col(\"Heart_Attack\") == \"Yes\", 1).otherwise(0))\n",
    "\n",
    "# 4. Danh sách các đặc trưng input (thay thế bằng cột thực tế trong dataset)\n",
    "indep_features = [\n",
    "    \"Age\", \"Gender\", \"Smoking_Status\", \"Hypertension\", \"Diabetes\", \"Obesity\",\n",
    "    \"Cholesterol_Level\", \"Air_Pollution_Exposure\", \"Physical_Activity\", \"Diet_Score\",\n",
    "    \"Stress_Level\", \"Alcohol_Consumption\", \"Family_History_CVD\", \"Healthcare_Access\",\n",
    "    \"Rural_or_Urban\", \"Region\", \"Province\", \"Hospital_Availability\", \"TCM_Use\",\n",
    "    \"Employment_Status\", \"Education_Level\", \"Income_Level\", \"Blood_Pressure\",\n",
    "    \"Chronic_Kidney_Disease\", \"Previous_Heart_Attack\", \"CVD_Risk_Score\"\n",
    "]\n",
    "\n",
    "# 5. Xác định các cột categorical cần encode\n",
    "categorical_cols = [c for c, t in df.dtypes if t == \"string\" and c in indep_features]\n",
    "\n",
    "# 6. Tạo StringIndexer cho các cột categorical\n",
    "indexers = [StringIndexer(inputCol=c, outputCol=c + \"_idx\", handleInvalid=\"keep\") for c in categorical_cols]\n",
    "\n",
    "# 7. Tạo danh sách features cuối cùng, thay thế categorical bằng cột index\n",
    "final_features = [c + \"_idx\" if c in categorical_cols else c for c in indep_features]\n",
    "\n",
    "# 8. VectorAssembler để gom tất cả features thành 1 vector\n",
    "assembler = VectorAssembler(inputCols=final_features, outputCol=\"features\")\n",
    "\n",
    "# 9. Tạo pipeline gồm indexers và assembler\n",
    "pipeline = Pipeline(stages=indexers + [assembler])\n",
    "\n",
    "# 10. Fit & transform dữ liệu\n",
    "pipeline_model = pipeline.fit(df)\n",
    "df_transformed = pipeline_model.transform(df)\n",
    "\n",
    "# 11. Chọn cột features và label\n",
    "df_final = df_transformed.select(\"features\", \"Heart_Attack\")\n",
    "\n",
    "# 12. Chia dữ liệu train/test\n",
    "train_data, test_data = df_final.randomSplit([0.8, 0.2], seed=42)"
   ],
   "id": "9d588f6719d29cbd",
   "outputs": [],
   "execution_count": 9
  },
  {
   "metadata": {
    "ExecuteTime": {
     "end_time": "2025-05-31T16:30:33.866920Z",
     "start_time": "2025-05-31T16:30:17.722896Z"
    }
   },
   "cell_type": "code",
   "source": [
    "# 13. Khởi tạo mô hình Linear SVC\n",
    "svm = LinearSVC(featuresCol=\"features\", labelCol=\"Heart_Attack\", maxIter=10, regParam=0.1)\n",
    "\n",
    "# 14. Huấn luyện mô hình trên train\n",
    "svm_model = svm.fit(train_data)\n",
    "\n",
    "# 15. Dự đoán trên test\n",
    "svm_predictions = svm_model.transform(test_data)\n",
    "\n",
    "# 16. Đánh giá với AUC\n",
    "evaluator = BinaryClassificationEvaluator(labelCol=\"Heart_Attack\", rawPredictionCol=\"rawPrediction\")\n",
    "auc = evaluator.evaluate(svm_predictions)\n",
    "print(f\"Area under ROC curve (SVM): {auc:.4f}\")\n",
    "\n",
    "# 17. Tính các chỉ số TP, TN, FP, FN\n",
    "tp = svm_predictions.filter((col(\"Heart_Attack\") == 1) & (col(\"prediction\") == 1)).count()\n",
    "tn = svm_predictions.filter((col(\"Heart_Attack\") == 0) & (col(\"prediction\") == 0)).count()\n",
    "fp = svm_predictions.filter((col(\"Heart_Attack\") == 0) & (col(\"prediction\") == 1)).count()\n",
    "fn = svm_predictions.filter((col(\"Heart_Attack\") == 1) & (col(\"prediction\") == 0)).count()\n",
    "\n",
    "# 18. Tính Accuracy, Precision, Recall, F1 Score\n",
    "accuracy = (tp + tn) / (tp + tn + fp + fn) if (tp + tn + fp + fn) != 0 else 0\n",
    "precision = tp / (tp + fp) if (tp + fp) != 0 else 0\n",
    "recall = tp / (tp + fn) if (tp + fn) != 0 else 0\n",
    "f1 = 2 * (precision * recall) / (precision + recall) if (precision + recall) != 0 else 0\n",
    "\n",
    "print(f\"Accuracy (SVM): {accuracy:.4f}\")\n",
    "print(f\"Precision (SVM): {precision:.4f}\")\n",
    "print(f\"Recall (SVM): {recall:.4f}\")\n",
    "print(f\"F1 Score (SVM): {f1:.4f}\")\n",
    "\n",
    "# 19. Dừng SparkSession\n",
    "spark.stop()"
   ],
   "id": "9502cc32c6b989c",
   "outputs": [
    {
     "name": "stdout",
     "output_type": "stream",
     "text": [
      "Area under ROC curve (SVM): 0.6375\n",
      "Accuracy (SVM): 0.6189\n",
      "Precision (SVM): 0.6229\n",
      "Recall (SVM): 0.8521\n",
      "F1 Score (SVM): 0.7197\n"
     ]
    }
   ],
   "execution_count": 10
  }
 ],
 "metadata": {
  "kernelspec": {
   "display_name": "Python 3",
   "language": "python",
   "name": "python3"
  },
  "language_info": {
   "codemirror_mode": {
    "name": "ipython",
    "version": 2
   },
   "file_extension": ".py",
   "mimetype": "text/x-python",
   "name": "python",
   "nbconvert_exporter": "python",
   "pygments_lexer": "ipython2",
   "version": "2.7.6"
  }
 },
 "nbformat": 4,
 "nbformat_minor": 5
}
